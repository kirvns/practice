{
  "nbformat": 4,
  "nbformat_minor": 0,
  "metadata": {
    "kernelspec": {
      "display_name": "Python 3",
      "language": "python",
      "name": "python3"
    },
    "language_info": {
      "codemirror_mode": {
        "name": "ipython",
        "version": 3
      },
      "file_extension": ".py",
      "mimetype": "text/x-python",
      "name": "python",
      "nbconvert_exporter": "python",
      "pygments_lexer": "ipython3",
      "version": "3.8.2"
    },
    "colab": {
      "name": "func-practice.ipynb",
      "provenance": [],
      "collapsed_sections": []
    }
  },
  "cells": [
    {
      "cell_type": "code",
      "metadata": {
        "id": "MOFsg45b1MJI"
      },
      "source": [
        ""
      ],
      "execution_count": null,
      "outputs": []
    },
    {
      "cell_type": "markdown",
      "metadata": {
        "id": "ylixGHVOvAqB"
      },
      "source": [
        "## Classwork\n",
        "\n",
        "*Сделайте одну задачу на выбор. Выполнение больше одной приветствуется*"
      ]
    },
    {
      "cell_type": "markdown",
      "metadata": {
        "id": "WbpgWXdHvgV8"
      },
      "source": [
        "**Задача 1.**  Напишите генератор названий компаний (почти как генератор паролей). \n",
        "Пусть в названии компании будет 6 частей, рандомно выбирающихся из списка names.\n",
        "\n",
        "Сделайте это функцией"
      ]
    },
    {
      "cell_type": "code",
      "metadata": {
        "colab": {
          "base_uri": "https://localhost:8080/"
        },
        "id": "lIwa6cOqvcTs",
        "outputId": "f2c1e8c2-5e2d-4583-8b4e-35caf216d1d0"
      },
      "source": [
        "# генератор названий компаний\n",
        "\n",
        "import random\n",
        "\n",
        "names = [\"пром\",\"агро\",\"торг\",\"урал\",\"север\",\"юг\",\"техно\",\n",
        "\"экспо\",\"метал\",\"нефть\",\"сельхоз\",\"фарм\",\"строй\",\n",
        "\"кредит\",\"алмаз\",\"девелопмент\",\"развитие\",\"мос\",\n",
        "\"рос\",\"кубань\",\"сибирь\",\"восток\",\"нано\",\"софт\",\n",
        "\"микро\",\"онлайн\",\"инвест\",\"текстиль\",\"цемент\"]\n",
        "\n",
        "# Ваш код ниже\n",
        "def generator():\n",
        "    final_name = ''\n",
        "    for i in range(6):\n",
        "      final_name = final_name + str.capitalize(random.choice(names))\n",
        "    return final_name\n",
        "print(generator())    "
      ],
      "execution_count": 35,
      "outputs": [
        {
          "output_type": "stream",
          "name": "stdout",
          "text": [
            "НефтьРазвитиеТекстильСибирьМосДевелопмент\n"
          ]
        }
      ]
    },
    {
      "cell_type": "markdown",
      "metadata": {
        "id": "3p-5dX9G1MJS"
      },
      "source": [
        "**Задача 2.** Генератор паролей\n",
        "\n",
        "Пароли, получаемые в результате, должны удовлетворять следующим условиям: \n",
        "     - в пароле есть 3 заглавные буквы (любые, в любом месте пароля)\n",
        "     - в пароле есть 4 цифры (любые, в любом месте)\n",
        "     - оставшиеся символы пароля - строчные латинские буквы\n",
        "     \n",
        "Создайте функцию, которая генерирует пароли, пользователь задает число символов в пароле (как аргумент функции)"
      ]
    },
    {
      "cell_type": "code",
      "metadata": {
        "colab": {
          "base_uri": "https://localhost:8080/"
        },
        "id": "Mm3FYaIJ99GJ",
        "outputId": "2bf0d0c0-bc92-4021-c593-1f2a0826cef7"
      },
      "source": [
        "import random, string\n",
        "def generator_p():\n",
        "    password = ''\n",
        "    upper = list(string.ascii_uppercase)\n",
        "    lower = list(string.ascii_lowercase)\n",
        "    dig = list(string.digits)\n",
        "    number = int(input('Сколько символов должно быть в пароле?'))\n",
        "    number = number - 7\n",
        "    for i in range(3):\n",
        "      password = password + random.choice(upper)\n",
        "    for i in range(4):\n",
        "      password = password + random.choice(dig) \n",
        "    for i in range(number):\n",
        "      password = password + random.choice(lower)\n",
        "    return password  \n",
        "print(generator_p())    "
      ],
      "execution_count": 39,
      "outputs": [
        {
          "output_type": "stream",
          "name": "stdout",
          "text": [
            "Сколько символов должно быть в пароле?8\n",
            "RBZ6553m\n"
          ]
        }
      ]
    }
  ]
}